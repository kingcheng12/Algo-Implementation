{
 "cells": [
  {
   "cell_type": "markdown",
   "id": "b7516577",
   "metadata": {},
   "source": [
    "## In this notebook, I will experiement on the usage of joblib parallelization, which will later be applied to the random forest algorithm."
   ]
  },
  {
   "cell_type": "code",
   "execution_count": 5,
   "id": "ab973230",
   "metadata": {},
   "outputs": [],
   "source": [
    "import numpy as np\n",
    "import time"
   ]
  },
  {
   "cell_type": "code",
   "execution_count": 6,
   "id": "a8fc3fe6",
   "metadata": {},
   "outputs": [],
   "source": [
    "rng = np.random.RandomState(42)\n",
    "data = rng.randn(int(1e4), 4)"
   ]
  },
  {
   "cell_type": "code",
   "execution_count": 7,
   "id": "9985e5e2",
   "metadata": {},
   "outputs": [
    {
     "name": "stdout",
     "output_type": "stream",
     "text": [
      "\n",
      "Sequential processing\n",
      "Elapsed time for the entire processing: 8.02 s\n"
     ]
    }
   ],
   "source": [
    "def costly_compute(data, column):\n",
    "    \"\"\"Emulate a costly function by sleeping and returning a column.\"\"\"\n",
    "    time.sleep(2)\n",
    "    return data[column]\n",
    "\n",
    "def data_processing_mean(data, column):\n",
    "    \"\"\"Compute the mean of a column.\"\"\"\n",
    "    return costly_compute(data, column).mean()\n",
    "\n",
    "start = time.time()\n",
    "results = [data_processing_mean(data, col) for col in range(data.shape[1])]\n",
    "stop = time.time()\n",
    "\n",
    "print('\\nSequential processing')\n",
    "print('Elapsed time for the entire processing: {:.2f} s'\n",
    "      .format(stop - start))"
   ]
  },
  {
   "cell_type": "code",
   "execution_count": 13,
   "id": "267e4dde",
   "metadata": {},
   "outputs": [],
   "source": [
    "#Import package\n",
    "from joblib import Parallel, delayed"
   ]
  },
  {
   "cell_type": "code",
   "execution_count": 12,
   "id": "8721eca5",
   "metadata": {},
   "outputs": [
    {
     "name": "stdout",
     "output_type": "stream",
     "text": [
      "Elapsed time for the entire processing: 4.54 s\n"
     ]
    }
   ],
   "source": [
    "def data_processing_mean_using_cache(data, column):\n",
    "    \"\"\"Compute the mean of a column.\"\"\"\n",
    "    return costly_compute(data, column).mean()\n",
    "\n",
    "start = time.time()\n",
    "results = Parallel(n_jobs=2)(\n",
    "    delayed(data_processing_mean_using_cache)(data, col)\n",
    "    for col in range(data.shape[1]))\n",
    "stop = time.time()\n",
    "\n",
    "print('Elapsed time for the entire processing: {:.2f} s'\n",
    "      .format(stop - start))"
   ]
  },
  {
   "cell_type": "code",
   "execution_count": null,
   "id": "07473191",
   "metadata": {},
   "outputs": [],
   "source": []
  },
  {
   "cell_type": "code",
   "execution_count": null,
   "id": "c3b2d48d",
   "metadata": {},
   "outputs": [],
   "source": []
  }
 ],
 "metadata": {
  "kernelspec": {
   "display_name": "Python 3",
   "language": "python",
   "name": "python3"
  },
  "language_info": {
   "codemirror_mode": {
    "name": "ipython",
    "version": 3
   },
   "file_extension": ".py",
   "mimetype": "text/x-python",
   "name": "python",
   "nbconvert_exporter": "python",
   "pygments_lexer": "ipython3",
   "version": "3.8.8"
  }
 },
 "nbformat": 4,
 "nbformat_minor": 5
}
